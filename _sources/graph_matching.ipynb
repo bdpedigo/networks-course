{
 "cells": [
  {
   "cell_type": "markdown",
   "metadata": {},
   "source": [
    "# Graph matching"
   ]
  },
  {
   "cell_type": "markdown",
   "metadata": {},
   "source": [
    "Some of this lesson is taken directly from the [`graspologic` tutorials on graph matching](https://microsoft.github.io/graspologic/latest/tutorials/index.html#matching), mostly written by Ali Saad-Eldin with help from myself."
   ]
  },
  {
   "cell_type": "markdown",
   "metadata": {},
   "source": [
    "## Why match graphs? \n",
    "\n",
    "Graph matching comes up in a ton of different contexts!\n",
    "\n",
    "- Computer vision: comparing objects\n",
    "- Communication networks:\n",
    "  - Finding noisy subgraphs\n",
    "  - Matching different social networks\n",
    "- Neuroscience: finding the same nodes on different sides of a brain\n",
    "\n",
    "```{figure} ./images/graph-match-cv.jpeg\n",
    "\n",
    "Application of graph matching in computer vision. Figure from [here](https://cv.snu.ac.kr/research/~ProgGM/).\n",
    "```\n",
    "\n",
    "```{figure} ./images/the-wire.png\n",
    "\n",
    "Potential application of graph matching in a communication subnetwork. Figure from *The Wire*, Season 3, Episode 7.\n",
    "```\n",
    "\n",
    "```{figure} ./images/match-neuron-morphology.png\n",
    "\n",
    "Application of graph matching to predict homologous neurons in a brain connectome.\n",
    "```"
   ]
  },
  {
   "attachments": {},
   "cell_type": "markdown",
   "metadata": {},
   "source": [
    "## Permutations\n",
    "\n",
    "To start to understand graph matching, we first need to understand permutations and \n",
    "permutation matrices.\n",
    "\n",
    "A [**permutation**](https://en.wikipedia.org/wiki/Permutation) can be thought of as a\n",
    "specific ordering or arrangement of some number of objects. \n",
    "\n",
    "```{admonition} Question\n",
    ":class: tip\n",
    "\n",
    "How many permutations are there of $n$ objects?\n",
    "```\n",
    "\n",
    "Permutations, for us, will be represented by [**permutation matrices**](https://en.wikipedia.org/wiki/Permutation_matrix).\n",
    "A permutation matrix is $n \\times n$, with all zeros except for $n$ 1s. More specifically, each row and column has exactly one 1 in it. Let's look at\n",
    "what a permutation matrix times a vector looks like.\n",
    "\n",
    "```{figure} ./images/perm-matrix.png\n",
    ":width: 200px\n",
    "\n",
    "A permutation matrix multiplied by a vector. The red elements of the matrix indicate the \n",
    "1s. Image from [Wikipedia](https://en.wikipedia.org/wiki/Permutation_matrix).\n",
    "```\n",
    "\n",
    "So, we see that if we look at the permutation matrix, the *row index* represents the \n",
    "index of the new position of object $i$. The *column index* represents the original\n",
    "position of an object. So, if we have a 1 at position $(1, 4)$, that means the first\n",
    "object was the fourth object in the original arangement.\n",
    "\n",
    "Note that this also works for matrices: each column of a matrix $A$ would be permuted\n",
    "the same way as the vector in the example above. So, we can think of \n",
    "\n",
    "$$PA$$\n",
    "\n",
    "as permuting the *rows* of the matrix $A$.\n",
    "\n",
    "Note that post-multiplication by the matrix $P$ works the opposite way (try it out \n",
    "yourself if you don't see this, or refer to the Wikipedia article). For this reason, if\n",
    "we wanted to permute the columns of $A$ in the same way, we'd have to do\n",
    "\n",
    "$$AP^T$$\n",
    "\n",
    "```{admonition} Question\n",
    ":class: tip\n",
    "\n",
    "How can we permute the rows *and* columns of the matrix $A$ in the same way? Why do \n",
    "we care about this for networks?\n",
    "```\n",
    "\n",
    "## Graph matching problem\n",
    "\n",
    "Why do we care about permutations for the problem of [**graph matching**](https://en.wikipedia.org/wiki/Graph_matching)?\n",
    "Graph matching refers to the problem of finding a mapping between the nodes of one graph ($A$)\n",
    "and the nodes of some other graph, $B$. For now, consider the case where the two networks\n",
    "have exactly the same number of nodes. Then, this problem amounts to finding a *permutation* \n",
    "of the nodes of one network with regard to the nodes of the other. Mathematically, we\n",
    "can think of this as comparing $A$ vs. $P B P^T$. \n",
    "\n",
    "```{note}\n",
    "You can think of graph matching as a more general case of the [**graph isomorphism problem**](https://en.wikipedia.org/wiki/Graph_isomorphism_problem).\n",
    "\n",
    "In the case of graph matching, we don't assume that the graphs must be exactly the same\n",
    "when matched, while for the graph isomorphism problem, we do.\n",
    "```\n",
    "\n",
    "How can we measure the quality of this alignment between two networks, given what \n",
    "we've talked about so far? Like when we talked about approximating matrices in the [embeddings](embeddings.ipynb)\n",
    "section, one natural way to do this is via the Frobenius norm of the difference. \n",
    "\n",
    "$$e(P) = \\|A - PBP^T\\|_F$$\n",
    "\n",
    "```{admonition} Question\n",
    ":class: tip\n",
    "\n",
    "In words, what is this quantity $e(P)$ measuring with respect to the edges of two\n",
    "unweighted networks?\n",
    "```\n",
    "\n",
    "We can use this same definition above for any type of network: unweighted or weighted, \n",
    "directed or undirected, with or without self-loops.\n",
    "\n",
    "```{figure} ./images/network-matching-explanation.png\n",
    "Diagram explaining graph matching.\n",
    "```\n"
   ]
  },
  {
   "cell_type": "markdown",
   "metadata": {},
   "source": [
    "## Solving the graph matching problem\n",
    "\n",
    "Many solutions for the problem above have been proposed - note that all of these are \n",
    "approximate solutions, and they tend to scale fairly poorly (in the number of nodes)\n",
    "compared to some of the other algorithms we have discussed so far. Nevertheless, a lot \n",
    "of progress has been made. I'm just going to focus on one family of algorithms based\n",
    "on the work of {cite:t}`vogelstein2015fast`.\n",
    "\n",
    "As we discussed when looking at the spectral method for maximizing modularity, we have a\n",
    "discrete problem, but we'd like to use continuous optimization tools where we can take\n",
    "gradients. To make this possible, the Fast Approximate Quadradic (FAQ) method first \n",
    "relaxes the constraint that $P$ be a permutation matrix. Via the Birkhoff-von Neumann theorem, it can be shown that the [convex hull](https://en.wikipedia.org/wiki/Convex_hull)\n",
    "of the permutation matrices is the set of [**doubly stochastic matrices**](https://en.wikipedia.org/wiki/Doubly_stochastic_matrix). A doubly stochastic matrix just has row \n",
    "and columns sums equal to 1, but does not necessarily have to have all nonzero elements\n",
    "equal to 1. This theorem is just saying that if I take a weighted average of any two \n",
    "permutation matrices, the row and columns sums of the result must be 1.\n",
    "\n",
    "It can be shown that minimizing our $e(P)$ above is equivalent to \n",
    "\n",
    "$$\\min_P -\\text{trace}(APB^T P^T)$$\n",
    "\n",
    "```{note}\n",
    "The [**quadratic assignment problem**](https://en.wikipedia.org/wiki/Quadratic_assignment_problem) can be written as $\\min_P \\text{trace}(APB^T P^T)$ - since these are just a sign flip away, any algorithm which solves one can be\n",
    "easily used to solve the other.\n",
    "```\n",
    "\n",
    "Calling our doubly stochastic matrices $D$, we now have \n",
    "\n",
    "$$\\min_D -\\text{trace}(ADB^T D^T)$$\n",
    "\n",
    "Given this relaxation, we can now begin to take gradients in our space of matrices. I won't go into every detail, but the algorithm we end up using is \n",
    "something like:\n",
    "1. Start with some initial position - note that this position is a doubly stochastic matrix.\n",
    "2. Compute the gradient of the expression above with respect to $D$. This gives us our \"step direction.\"\n",
    "3. Compute a step size (how far to go in that direction in the space of matrices) by searching over the line between our current position and the one computed in 2.\n",
    "4. Update our position based on 3.\n",
    "5. Repeat 2.-4. until some convergence criterion is reached.\n",
    "6. Project back to the set of permutation matrices."
   ]
  },
  {
   "cell_type": "markdown",
   "metadata": {},
   "source": [
    "## Graph matching with `graspologic`\n",
    "\n",
    "### Basic graph matching"
   ]
  },
  {
   "cell_type": "markdown",
   "metadata": {},
   "source": [
    "Thankfully, all of this is implemented in `graspologic`. Let's start by generating a random network (ER). We'll then make a permuted copy of itself."
   ]
  },
  {
   "cell_type": "code",
   "execution_count": null,
   "metadata": {},
   "outputs": [],
   "source": [
    "import numpy as np\n",
    "from graspologic.match import graph_match\n",
    "from graspologic.simulations import er_np\n",
    "\n",
    "n = 50\n",
    "p = 0.3\n",
    "\n",
    "np.random.seed(1)\n",
    "rng = np.random.default_rng(8888)\n",
    "\n",
    "G1 = er_np(n=n, p=p)\n",
    "node_shuffle_input = np.random.permutation(n)\n",
    "G2 = G1[np.ix_(node_shuffle_input, node_shuffle_input)]\n",
    "print(\"Number of edge disagreements: \", np.sum(abs(G1 - G2)))"
   ]
  },
  {
   "cell_type": "code",
   "execution_count": null,
   "metadata": {},
   "outputs": [],
   "source": [
    "import matplotlib.pyplot as plt\n",
    "from graspologic.plot import heatmap\n",
    "\n",
    "fig, axs = plt.subplots(1, 2, figsize=(10, 5))\n",
    "heatmap(G1, cbar=False, title=\"G1 [ER-NP(50, 0.3) Simulation]\", ax=axs[0])\n",
    "_ = heatmap(G2, cbar=False, title=\"G2 [G1 Randomly Shuffled]\", ax=axs[1])"
   ]
  },
  {
   "cell_type": "markdown",
   "metadata": {},
   "source": [
    "Now, let's solve the graph matching problem."
   ]
  },
  {
   "cell_type": "code",
   "execution_count": null,
   "metadata": {},
   "outputs": [],
   "source": [
    "_, perm_inds, _, _ = graph_match(G1, G2, rng=rng)\n",
    "G2 = G2[np.ix_(perm_inds, perm_inds)]\n",
    "print(\"Number of edge disagreements: \", np.sum(abs(G1 - G2)))"
   ]
  },
  {
   "cell_type": "markdown",
   "metadata": {},
   "source": [
    "So, we've exactly recovered the correct permutation - note that this won't always be true."
   ]
  },
  {
   "cell_type": "markdown",
   "metadata": {},
   "source": [
    "### Adding seed nodes\n",
    "\n",
    "Next, we explore the use of \"seed\" nodes. Imagine you have two networks that you want to match, but you already know that a handful of these nodes are correctly paired. These nodes are called seeds, which you can incorporate into\n",
    "the optimization in `graspologic` via techniques described in {cite:t}`fishkind2019seeded`.\n",
    "\n",
    "For this example, we use a slightly different network model - we create two stochastic block models, but the edges are *correlated* so that the two networks are similar but not exactly the same."
   ]
  },
  {
   "cell_type": "code",
   "execution_count": null,
   "metadata": {},
   "outputs": [],
   "source": [
    "import seaborn as sns\n",
    "from graspologic.simulations import sbm_corr\n",
    "\n",
    "sns.set_context(\"talk\")\n",
    "\n",
    "np.random.seed(8888)\n",
    "\n",
    "directed = False\n",
    "loops = False\n",
    "n_per_block = 75\n",
    "n_blocks = 3\n",
    "block_members = np.array(n_blocks * [n_per_block])\n",
    "n_verts = block_members.sum()\n",
    "rho = 0.9\n",
    "block_probs = np.array([[0.7, 0.3, 0.4], [0.3, 0.7, 0.3], [0.4, 0.3, 0.7]])\n",
    "fig, ax = plt.subplots(1, 1, figsize=(4, 4))\n",
    "sns.heatmap(block_probs, cbar=False, annot=True, square=True, cmap=\"Reds\", ax=ax)\n",
    "ax.set_title(\"SBM block probabilities\")\n",
    "\n",
    "A1, A2 = sbm_corr(block_members, block_probs, rho, directed=directed, loops=loops)\n",
    "fig, axs = plt.subplots(1, 3, figsize=(10, 5))\n",
    "heatmap(A1, ax=axs[0], cbar=False, title=\"Graph 1\")\n",
    "heatmap(A2, ax=axs[1], cbar=False, title=\"Graph 2\")\n",
    "_ = heatmap(A1 - A2, ax=axs[2], cbar=False, title=\"Diff (G1 - G2)\")"
   ]
  },
  {
   "cell_type": "markdown",
   "metadata": {},
   "source": [
    "Here we see that after shuffling the second graph, there are many more edge disagreements, as expected."
   ]
  },
  {
   "cell_type": "code",
   "execution_count": null,
   "metadata": {},
   "outputs": [],
   "source": [
    "node_shuffle_input = np.random.permutation(n_verts)\n",
    "A2_shuffle = A2[np.ix_(node_shuffle_input, node_shuffle_input)]\n",
    "node_unshuffle_input = np.array(range(n_verts))\n",
    "node_unshuffle_input[node_shuffle_input] = np.array(range(n_verts))\n",
    "\n",
    "fig, axs = plt.subplots(1, 3, figsize=(10, 5))\n",
    "heatmap(A1, ax=axs[0], cbar=False, title=\"Graph 1\")\n",
    "heatmap(A2_shuffle, ax=axs[1], cbar=False, title=\"Graph 2 shuffled\")\n",
    "_ = heatmap(A1 - A2_shuffle, ax=axs[2], cbar=False, title=\"Diff (G1 - G2 shuffled)\")"
   ]
  },
  {
   "cell_type": "markdown",
   "metadata": {},
   "source": [
    "First, we will run graph matching on graph 1 and the shuffled graph 2 with no seeds, and return the match ratio, that is the fraction of vertices that have been correctly matched."
   ]
  },
  {
   "cell_type": "code",
   "execution_count": null,
   "metadata": {},
   "outputs": [],
   "source": [
    "perm_first, perm_inds, score, misc = graph_match(A1, A2_shuffle, rng=rng)\n",
    "# these other 3 returns we often don't use, but they are there if you want them and\n",
    "# are explained in the docs. for the most part, we care about \"perm_inds\" which tell us\n",
    "# how to permute the second graph to match the first graph.\n",
    "\n",
    "A2_unshuffle = A2_shuffle[np.ix_(perm_inds, perm_inds)]\n",
    "\n",
    "fig, axs = plt.subplots(1, 3, figsize=(10, 5))\n",
    "heatmap(A1, ax=axs[0], cbar=False, title=\"Graph 1\")\n",
    "heatmap(A2_unshuffle, ax=axs[1], cbar=False, title=\"Graph 2 unshuffled\")\n",
    "heatmap(A1 - A2_unshuffle, ax=axs[2], cbar=False, title=\"Diff (G1 - G2 unshuffled)\")\n",
    "\n",
    "match_ratio = 1 - (np.count_nonzero(abs(perm_inds - node_unshuffle_input)) / n_verts)\n",
    "print(\"Match Ratio with no seeds: \", match_ratio)"
   ]
  },
  {
   "cell_type": "markdown",
   "metadata": {},
   "source": [
    "While the predicted permutation for graph 2 did recover the basic structure of the stochastic block model (i.e. graph 1 and graph 2 look qualitatively similar), we see that the number of edge disagreements between them is still quite high, and the match ratio quite low. "
   ]
  },
  {
   "cell_type": "markdown",
   "metadata": {},
   "source": [
    "Next, we will run SGM with 10 randomly selected seeds. Although 10 seeds is only about 4% of the 300 node graph, we will observe below how much more accurate the matching will be compared to having no seeds."
   ]
  },
  {
   "cell_type": "code",
   "execution_count": null,
   "metadata": {},
   "outputs": [],
   "source": [
    "import random\n",
    "\n",
    "seeds1 = np.sort(random.sample(list(range(n_verts)), 10))\n",
    "seeds1 = seeds1.astype(int)\n",
    "seeds2 = np.array(node_unshuffle_input[seeds1])\n",
    "partial_match = np.column_stack((seeds1, seeds2))\n",
    "\n",
    "_, perm_inds, _, _ = graph_match(A1, A2_shuffle, partial_match=partial_match, rng=rng)\n",
    "A2_unshuffle = A2_shuffle[np.ix_(perm_inds, perm_inds)]\n",
    "\n",
    "fig, axs = plt.subplots(1, 3, figsize=(10, 5))\n",
    "heatmap(A1, ax=axs[0], cbar=False, title=\"Graph 1\")\n",
    "heatmap(A2_unshuffle, ax=axs[1], cbar=False, title=\"Graph 2 unshuffled\")\n",
    "heatmap(A1 - A2_unshuffle, ax=axs[2], cbar=False, title=\"Diff (G1 - G2 unshuffled)\")\n",
    "\n",
    "match_ratio = 1 - (np.count_nonzero(abs(perm_inds - node_unshuffle_input)) / n_verts)\n",
    "print(\"Match Ratio with 10 seeds: \", match_ratio)"
   ]
  },
  {
   "cell_type": "markdown",
   "metadata": {},
   "source": [
    "### Graphs with different numbers of nodes\n",
    "\n",
    "I won't go into all of the details, but it is also possible to match networks \n",
    "with different numbers of nodes.\n",
    "\n",
    "Here, we just create two correlated SBMs, and then remove some nodes from each block in one of the networks."
   ]
  },
  {
   "cell_type": "code",
   "execution_count": null,
   "metadata": {},
   "outputs": [],
   "source": [
    "# simulating G1', G2, deleting 25 vertices\n",
    "\n",
    "directed = False\n",
    "loops = False\n",
    "block_probs = [\n",
    "    [0.9, 0.4, 0.3, 0.2],\n",
    "    [0.4, 0.9, 0.4, 0.3],\n",
    "    [0.3, 0.4, 0.9, 0.4],\n",
    "    [0.2, 0.3, 0.4, 0.7],\n",
    "]\n",
    "n = 100\n",
    "n_blocks = 4\n",
    "rho = 0.5\n",
    "block_members = np.array(n_blocks * [n])\n",
    "n_verts = block_members.sum()\n",
    "G1, G2_full = sbm_corr(block_members, block_probs, rho, directed, loops)\n",
    "\n",
    "keep_indices = np.concatenate(\n",
    "    (np.arange(75), np.arange(100, 175), np.arange(200, 275), np.arange(300, 375))\n",
    ")\n",
    "\n",
    "G2 = G2_full[keep_indices][:, keep_indices]\n",
    "\n",
    "G2_deleted = np.full((G1.shape), -1)\n",
    "G2_deleted[np.ix_(keep_indices, keep_indices)] = G2\n",
    "\n",
    "topleft_G2 = np.zeros((400, 400))\n",
    "topleft_G2[:300, :300] = G2\n",
    "fig, axs = plt.subplots(1, 4, figsize=(20, 10))\n",
    "heatmap(G1, ax=axs[0], cbar=False, title=\"G1'\")\n",
    "heatmap(G2_full, ax=axs[1], cbar=False, title=\"G2 (before deletions)\")\n",
    "heatmap(G2_deleted, ax=axs[2], cbar=False, title=\"G2 (after deletions)\")\n",
    "_ = heatmap(topleft_G2, ax=axs[3], cbar=False, title=\"G2 (to top left corner)\")"
   ]
  },
  {
   "cell_type": "markdown",
   "metadata": {},
   "source": [
    "Now, we have two networks which have two different sizes, and only some of the nodes in the smaller network are well represented in the other. We can still use graph matching here in `graspologic` - this code compares two different methods of doing so using techniques dubbed \"padding\" in {cite:t}`fishkind2019seeded`."
   ]
  },
  {
   "cell_type": "code",
   "execution_count": null,
   "metadata": {},
   "outputs": [],
   "source": [
    "seed2 = rng.choice(np.arange(G2.shape[0]), 8)\n",
    "seed1 = [int(x / 75) * 25 + x for x in seed2]\n",
    "\n",
    "partial_match = np.column_stack((seed1, seed2))\n",
    "\n",
    "naive_indices1, naive_indices2, _, _ = graph_match(\n",
    "    G1, G2, partial_match=partial_match, padding=\"naive\", rng=rng\n",
    ")\n",
    "G2_naive = G2[naive_indices2][:, naive_indices2]\n",
    "G2_naive_full = np.zeros(G1.shape)\n",
    "G2_naive_full[np.ix_(naive_indices1, naive_indices1)] = G2_naive\n",
    "\n",
    "adopted_indices1, adopted_indices2, _, _ = graph_match(\n",
    "    G1, G2, partial_match=partial_match, padding=\"adopted\", rng=rng\n",
    ")\n",
    "G2_adopted = G2[adopted_indices2][:, adopted_indices2]\n",
    "G2_adopted_full = np.zeros(G1.shape)\n",
    "G2_adopted_full[np.ix_(adopted_indices1, adopted_indices1)] = G2_adopted\n",
    "\n",
    "fig, axs = plt.subplots(1, 2, figsize=(14, 7))\n",
    "heatmap(G2_naive_full, ax=axs[0], cbar=False, title=\"Naive Padding\")\n",
    "heatmap(G2_adopted_full, ax=axs[1], cbar=False, title=\"Adopted Padding\")\n",
    "\n",
    "\n",
    "def compute_match_ratio(indices1, indices2):\n",
    "    match_ratio = 0\n",
    "    for i in range(len(indices2)):\n",
    "        if (indices1[i] == keep_indices[i]) and (indices2[i] == i):\n",
    "            match_ratio += 1\n",
    "    return match_ratio / len(indices2)\n",
    "\n",
    "\n",
    "print(\n",
    "    f\"Matching accuracy with naive padding: {compute_match_ratio(naive_indices1, naive_indices2):.2f}\"\n",
    ")\n",
    "print(\n",
    "    f\"Matching accuracy with adopted padding: {compute_match_ratio(adopted_indices1, adopted_indices2):.2f}\"\n",
    ")"
   ]
  },
  {
   "cell_type": "markdown",
   "metadata": {},
   "source": [
    "### Practical considerations\n",
    "\n",
    "- While the number of edges in the two networks matters, the most important scaling factor is the number of nodes. Solving the graph matching problem using our code may take a while when you have more than a few thousand nodes. \n",
    "\n",
    "- The current implementation only works for dense arrays. There is no reason we couldn't make it work for sparse (and we plan to) but because the most important factor in the scaling is the number of nodes, this wouldn't make a drastic difference. \n",
    "\n",
    "- As with many algorithms we've talked about in this course, the results will likely be different with different runs of the algorithm. This is primarily because of the initialization. The `n_init` parameter to `GraphMatch` allows you to do multiple initializations and take the best.\n",
    "\n",
    "- You can play with the `max_iter` and `eps` parameters to control how hard the algorithm will try to keep improving its results. Scaling these can give you better performance (but will possibly take longer) or quicker results (but the accuracy may suffer).\n",
    "\n",
    "- I recommend always leaving the `shuffle_input` parameter set to `True` - for reasons I won't go into, the input order of the two networks will matter otherwise, and this can give inflated or misleading performance if you aren't careful."
   ]
  },
  {
   "cell_type": "markdown",
   "metadata": {},
   "source": [
    "## Application\n",
    "\n",
    "In a recent paper, we applied these same tools for matching the nodes in the left and right *Drosophila* larva mushroom body connectome datasets, the same\n",
    "ones you get from `graspologic.datasets.load_drosophila_left()` etc."
   ]
  },
  {
   "cell_type": "markdown",
   "metadata": {},
   "source": [
    "```{figure} ./images/gm-stat-conn.png\n",
    "\n",
    "Figure from {cite:t}`chung2021statistical`.\n",
    "```"
   ]
  },
  {
   "cell_type": "markdown",
   "metadata": {},
   "source": [
    "## References \n",
    "```{bibliography}\n",
    ":filter: docname in docnames\n",
    ":style: unsrt\n",
    "```"
   ]
  }
 ],
 "metadata": {
  "kernelspec": {
   "display_name": ".venv",
   "language": "python",
   "name": "python3"
  },
  "language_info": {
   "codemirror_mode": {
    "name": "ipython",
    "version": 3
   },
   "file_extension": ".py",
   "mimetype": "text/x-python",
   "name": "python",
   "nbconvert_exporter": "python",
   "pygments_lexer": "ipython3",
   "version": "3.10.9"
  },
  "orig_nbformat": 4,
  "vscode": {
   "interpreter": {
    "hash": "80a8bff93d06f1381780c8fe583e091ee1d12fb883dc34cad0aabe6882d76bc0"
   }
  }
 },
 "nbformat": 4,
 "nbformat_minor": 2
}
