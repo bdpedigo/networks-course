{
 "cells": [
  {
   "cell_type": "markdown",
   "metadata": {},
   "source": [
    "# Graph matching"
   ]
  },
  {
   "cell_type": "markdown",
   "metadata": {},
   "source": [
    "## Why match graphs? \n",
    "\n",
    "Graph matching comes up in a ton of different contexts!\n",
    "\n",
    "- Computer vision: comparing objects\n",
    "- Communication networks:\n",
    "  - Finding noisy subgraphs\n",
    "  - Matching different social networks\n",
    "- Neuroscience: finding the same nodes on different sides of a brain\n",
    "\n",
    "```{figure} ./images/graph-match-cv.jpeg\n",
    "\n",
    "Application of graph matching in computer vision. Figure from [here](https://cv.snu.ac.kr/research/~ProgGM/).\n",
    "```\n",
    "\n",
    "```{figure} ./images/the-wire.png\n",
    "\n",
    "Potential application of graph matching in a communication subnetwork. Figure from *The Wire*, Season 3, Episode 7.\n",
    "```\n",
    "\n",
    "```{figure} ./images/match-neuron-morphology.png\n",
    "\n",
    "Application of graph matching to predict homologous neurons in a brain connectome.\n",
    "```"
   ]
  },
  {
   "cell_type": "markdown",
   "metadata": {},
   "source": [
    "To start to understand "
   ]
  },
  {
   "cell_type": "code",
   "execution_count": null,
   "metadata": {},
   "outputs": [],
   "source": []
  }
 ],
 "metadata": {
  "language_info": {
   "name": "python"
  },
  "orig_nbformat": 4
 },
 "nbformat": 4,
 "nbformat_minor": 2
}
