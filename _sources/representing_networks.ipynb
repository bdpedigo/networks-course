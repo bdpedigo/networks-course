{
 "cells": [
  {
   "cell_type": "markdown",
   "metadata": {},
   "source": [
    "# Representing networks"
   ]
  },
  {
   "cell_type": "markdown",
   "metadata": {},
   "source": [
    "## Adjacency matrices"
   ]
  },
  {
   "cell_type": "markdown",
   "metadata": {},
   "source": [
    "The most common representation of a network in a mathematical sense is an **adjacency matrix**. For a network with $n$ nodes, an adjacency matrix is an $n \\times n$ matrix, which we'll often denote $A$. If there is an edge between node $i$ and node $j$, then there is some nonzero element at the $i, j$-th element of $A$, $a_{ij}$. \n",
    "\n",
    "For an **unweighted network**, the convention is for the matrix to have a \"1\" anywhere there is an edge, and a \"0\" otherwise. One example of an unweighted network is a social network, where each node is a person. We could say that there is an edge between two people if they are friends on Facebook, and there is not an edge otherwise. You may \n",
    "also hear the term \"binary network\" used to mean unweighted, since the elements of the adjacency matrix are 0s and 1s.\n",
    "\n",
    "For a **weighted network**, $a_{ij}$ will have a nonzero value representing the weight associated with that edge. For an example of a weighted network, we could consider another social network formed from email communications. We could say that there is an edge between any two people who emailed each other during a given time period, but we could further say that the edge weight is the *number of emails* between them.\n",
    "\n",
    "For an **undirected network**, we are only interested in whether there is a relationship\n",
    "between node $i$ and node $j$. There is no distinction between an edge from $i$\n",
    "to $j$ vs an edge from $j$ to $i$. Thus, in the adjacency matrix, we have that \n",
    "$a_{ij} = a_{ji}$. This makes the matrix *symmetric*: $A = A^T$. In our social network \n",
    "analogy, an undirected network could come from a network of Facebook friends, where a \n",
    "friendship from person $i$ to $j$ necessarily implies that $j$ is friends with $i$. \n",
    "\n",
    "For a **directed network**, we do not have the constraint above, and $a_{ij}$ does not \n",
    "necessarily equal $a_{ji}$. Continuing our social network analogy, Twitter could be\n",
    "modeled as a network of accounts, with directed edges from $i$ to $j$ if person $i$ \n",
    "follows person $j$. Since Twitter does not require people to follow each other back, this is a directed network. "
   ]
  },
  {
   "cell_type": "markdown",
   "metadata": {},
   "source": [
    "## Adjacency matrices in code"
   ]
  },
  {
   "cell_type": "markdown",
   "metadata": {},
   "source": [
    "There are many ways to represent networks in Python. For instance, we can use the adjacency matrix representation described above. We'll start with an example of a directed graph on 5 nodes:"
   ]
  },
  {
   "cell_type": "code",
   "execution_count": 2,
   "metadata": {},
   "outputs": [
    {
     "data": {
      "text/plain": [
       "array([[0., 1., 0., 0., 0.],\n",
       "       [0., 0., 1., 0., 1.],\n",
       "       [0., 1., 0., 1., 0.],\n",
       "       [0., 0., 0., 0., 0.],\n",
       "       [0., 1., 0., 0., 0.]])"
      ]
     },
     "execution_count": 2,
     "metadata": {},
     "output_type": "execute_result"
    }
   ],
   "source": [
    "import numpy as np\n",
    "\n",
    "n_nodes = 5\n",
    "\n",
    "A = np.zeros((n_nodes, n_nodes))  # initialize to a graph with no edges\n",
    "\n",
    "A[0, 1] = 1  # from node 0 to node 1\n",
    "A[1, 2] = 1  # from node 1 to node 2...\n",
    "A[1, 4] = 1  # etc, etc.\n",
    "A[2, 1] = 1\n",
    "A[2, 3] = 1\n",
    "A[4, 1] = 1\n",
    "\n",
    "A"
   ]
  },
  {
   "cell_type": "markdown",
   "metadata": {},
   "source": [
    "We can check whether the network is directed:"
   ]
  },
  {
   "cell_type": "code",
   "execution_count": 3,
   "metadata": {},
   "outputs": [
    {
     "name": "stdout",
     "output_type": "stream",
     "text": [
      "Is this network undirected?\n",
      "False\n"
     ]
    }
   ],
   "source": [
    "equals = A == A.T  # a matrix comparing each element\n",
    "print(\"Is this network undirected?\")\n",
    "print(equals.all())  # is this matrix all true?"
   ]
  },
  {
   "cell_type": "markdown",
   "metadata": {},
   "source": [
    "We can do the same thing using `graspologic`, as well as force the matrix to be symmetric/undirected:"
   ]
  },
  {
   "cell_type": "code",
   "execution_count": 4,
   "metadata": {},
   "outputs": [
    {
     "name": "stdout",
     "output_type": "stream",
     "text": [
      "False\n"
     ]
    },
    {
     "data": {
      "text/plain": [
       "array([[0. , 0.5, 0. , 0. , 0. ],\n",
       "       [0.5, 0. , 1. , 0. , 1. ],\n",
       "       [0. , 1. , 0. , 0.5, 0. ],\n",
       "       [0. , 0. , 0.5, 0. , 0. ],\n",
       "       [0. , 1. , 0. , 0. , 0. ]])"
      ]
     },
     "execution_count": 4,
     "metadata": {},
     "output_type": "execute_result"
    }
   ],
   "source": [
    "from graspologic.utils import symmetrize, is_symmetric\n",
    "\n",
    "print(is_symmetric(A))\n",
    "\n",
    "A_sym = symmetrize(A)\n",
    "A_sym"
   ]
  },
  {
   "cell_type": "markdown",
   "metadata": {},
   "source": [
    "Now, we see that we have a weighted network - not all edge weights are equal to 0 or 1. This is because `symmetrize` \n",
    "used the average of edge weights between the edge $i \\rightarrow j$ and the edge $j \\rightarrow i$ to\n",
    "make the network symmetric/undirected."
   ]
  },
  {
   "cell_type": "markdown",
   "metadata": {},
   "source": [
    "If we wanted to make the network unweighted again, we could use the function `binarize`."
   ]
  },
  {
   "cell_type": "code",
   "execution_count": 5,
   "metadata": {},
   "outputs": [
    {
     "data": {
      "text/plain": [
       "array([[0., 1., 0., 0., 0.],\n",
       "       [1., 0., 1., 0., 1.],\n",
       "       [0., 1., 0., 1., 0.],\n",
       "       [0., 0., 1., 0., 0.],\n",
       "       [0., 1., 0., 0., 0.]])"
      ]
     },
     "execution_count": 5,
     "metadata": {},
     "output_type": "execute_result"
    }
   ],
   "source": [
    "from graspologic.utils import binarize\n",
    "\n",
    "binarize(A_sym)"
   ]
  },
  {
   "cell_type": "markdown",
   "metadata": {},
   "source": [
    "## Sparse networks\n",
    "\n",
    "Most networks in the real world are **sparse** - this means that they have far more non-edges\n",
    "than edges. For example, consider the example of a Twitter network from before. From a quick Google (I won't claim that [these results](https://techjury.net/blog/twitter-statistics/#gref) are perfectly accurate, but still), there are 100 million Twitter accounts, and the average account has ~700 followers.\n",
    "So on average, this would mean there are roughly $700 \\times 100,000,000 = 70,000,000,000$ total follow relationships on Twitter (70 billion edges!). While this may seem like a lot, consider the total number of _possible_ edges - this would be $100,000,000^2$, or $10,000,000,000,000,000$. \n",
    "\n",
    "What does this tell us about the adjacency matrix for Twitter? It would have far, far more $0$'s in it than non-zeros, i.e. there are far, far more non-edges than edges. If we were to try to store the \n",
    "adjacency matrix for Twitter in a `numpy` array, we would very quickly run out of memory."
   ]
  },
  {
   "cell_type": "markdown",
   "metadata": {},
   "source": [
    "## Sparse adjacency matrices in code\n",
    "\n",
    "[**Sparse matrices**](https://en.wikipedia.org/wiki/Sparse_matrix) are a wonderful way to get around this problem when working with sparse networks. In Python, the most common sparse matrix format [can be found in `SciPy`](https://docs.scipy.org/doc/scipy/reference/sparse.html). A sparse matrix format typically saves memory (if the data is sparse) by only explicitly representing any non-zero entries, and then assuming that all other elements of the matrix are zero. The main disadvantage to using a sparse matrix is that they are often more difficult to manipulate and modify than a dense array, but sparse matrices can allow us to store or operate on adjacency matrices which would otherwise be too large to store in memory. There are many different kinds of sparse matrices (see both links earlier in this section), but for now, we'll just focus on the [**compressed sparse row (CSR)**](https://docs.scipy.org/doc/scipy/reference/generated/scipy.sparse.csr_matrix.html#scipy.sparse.csr_matrix) format.\n"
   ]
  },
  {
   "cell_type": "code",
   "execution_count": 6,
   "metadata": {},
   "outputs": [
    {
     "data": {
      "text/plain": [
       "<5x5 sparse matrix of type '<class 'numpy.float64'>'\n",
       "\twith 6 stored elements in Compressed Sparse Row format>"
      ]
     },
     "execution_count": 6,
     "metadata": {},
     "output_type": "execute_result"
    }
   ],
   "source": [
    "from scipy.sparse import csr_matrix\n",
    "\n",
    "A_sparse = csr_matrix(A)\n",
    "\n",
    "A_sparse"
   ]
  },
  {
   "cell_type": "markdown",
   "metadata": {},
   "source": [
    "```{warning}\n",
    "I do NOT recommend actually building your sparse adjacency matrix by first creating a \n",
    "dense array, and then making a sparse one from it. This defeats the purpose of trying \n",
    "to save memory since you had to build the dense array. If you want to make a sparse\n",
    "array \"by hand,\" look at the [constructor for csr_matrix](https://docs.scipy.org/doc/scipy/reference/generated/scipy.sparse.csr_matrix.html#scipy.sparse.csr_matrix) to see how it can be\n",
    "instantiated with arrays of nonzero values only. Otherwise, if you are starting \n",
    "from `networkx`, use `nx.to_scipy_sparse_matrix(g, ...)`.\n",
    "```"
   ]
  },
  {
   "cell_type": "markdown",
   "metadata": {},
   "source": [
    "We can verify that the conversion preserved the data itself by converting back to a dense array."
   ]
  },
  {
   "cell_type": "code",
   "execution_count": 7,
   "metadata": {},
   "outputs": [
    {
     "name": "stdout",
     "output_type": "stream",
     "text": [
      "Are all elements the same?\n"
     ]
    },
    {
     "data": {
      "text/plain": [
       "True"
      ]
     },
     "execution_count": 7,
     "metadata": {},
     "output_type": "execute_result"
    }
   ],
   "source": [
    "print(\"Are all elements the same?\")\n",
    "(A == A_sparse.toarray()).all()"
   ]
  },
  {
   "cell_type": "markdown",
   "metadata": {},
   "source": [
    "Many of the algorithms we'll talk about in this course can be sped up by making use of sparse matrices where appropriate."
   ]
  },
  {
   "cell_type": "markdown",
   "metadata": {},
   "source": [
    "## NetworkX graphs"
   ]
  },
  {
   "cell_type": "markdown",
   "metadata": {},
   "source": [
    "There are many other ways to represent networks in code - probably the most popular of these in Python is by using the library [`NetworkX`](https://networkx.org/), which was created specifically for working with networks. "
   ]
  },
  {
   "cell_type": "code",
   "execution_count": 8,
   "metadata": {},
   "outputs": [
    {
     "data": {
      "text/plain": [
       "<networkx.classes.graph.Graph at 0x13115ce80>"
      ]
     },
     "execution_count": 8,
     "metadata": {},
     "output_type": "execute_result"
    }
   ],
   "source": [
    "import networkx as nx\n",
    "\n",
    "g = nx.Graph()\n",
    "\n",
    "g.add_edge(0, 1)\n",
    "g.add_edge(1, 2)\n",
    "g.add_edge(1, 4)\n",
    "g.add_edge(2, 1)\n",
    "g.add_edge(2, 3)\n",
    "\n",
    "g"
   ]
  },
  {
   "cell_type": "markdown",
   "metadata": {},
   "source": [
    "What happens when we convert to an array representation?"
   ]
  },
  {
   "cell_type": "code",
   "execution_count": 9,
   "metadata": {},
   "outputs": [
    {
     "data": {
      "text/plain": [
       "array([[0., 1., 0., 0., 0.],\n",
       "       [1., 0., 1., 0., 1.],\n",
       "       [0., 1., 0., 1., 0.],\n",
       "       [0., 0., 1., 0., 0.],\n",
       "       [0., 1., 0., 0., 0.]])"
      ]
     },
     "execution_count": 9,
     "metadata": {},
     "output_type": "execute_result"
    }
   ],
   "source": [
    "nx.to_numpy_array(g, nodelist=[0, 1, 2, 3, 4])"
   ]
  },
  {
   "cell_type": "markdown",
   "metadata": {},
   "source": [
    "Note what happened in the above - the array we got back might not be exactly what you expected. For instance, we did not specify an edge from node $4$ to node $1$, but element $[4, 1]$ has a $1$ in it. "
   ]
  },
  {
   "cell_type": "markdown",
   "metadata": {},
   "source": [
    "The NetworkX `Graph` object *always* assumes that your graph is undirected. If you'd like to create a directed graph, you need to do so explicitly."
   ]
  },
  {
   "cell_type": "code",
   "execution_count": 10,
   "metadata": {},
   "outputs": [
    {
     "data": {
      "text/plain": [
       "array([[0., 1., 0., 0., 0.],\n",
       "       [0., 0., 1., 0., 1.],\n",
       "       [0., 1., 0., 1., 0.],\n",
       "       [0., 0., 0., 0., 0.],\n",
       "       [0., 0., 0., 0., 0.]])"
      ]
     },
     "execution_count": 10,
     "metadata": {},
     "output_type": "execute_result"
    }
   ],
   "source": [
    "g_directed = nx.DiGraph()\n",
    "\n",
    "g_directed.add_edge(0, 1)\n",
    "g_directed.add_edge(1, 2)\n",
    "g_directed.add_edge(1, 4)\n",
    "g_directed.add_edge(2, 1)\n",
    "g_directed.add_edge(2, 3)\n",
    "\n",
    "nx.to_numpy_array(g_directed, nodelist=[0,1,2,3,4])"
   ]
  },
  {
   "cell_type": "markdown",
   "metadata": {},
   "source": [
    "```{admonition} Question\n",
    "\n",
    "Why did we have to specify the `nodelist` parameter?\n",
    "```"
   ]
  },
  {
   "cell_type": "markdown",
   "metadata": {},
   "source": [
    "Here's a hit: look what happens when we don't:"
   ]
  },
  {
   "cell_type": "code",
   "execution_count": 11,
   "metadata": {},
   "outputs": [
    {
     "data": {
      "text/plain": [
       "array([[0., 1., 0., 0., 0.],\n",
       "       [1., 0., 1., 1., 0.],\n",
       "       [0., 1., 0., 0., 1.],\n",
       "       [0., 1., 0., 0., 0.],\n",
       "       [0., 0., 1., 0., 0.]])"
      ]
     },
     "execution_count": 11,
     "metadata": {},
     "output_type": "execute_result"
    }
   ],
   "source": [
    "nx.to_numpy_array(g)"
   ]
  },
  {
   "cell_type": "code",
   "execution_count": 12,
   "metadata": {},
   "outputs": [
    {
     "data": {
      "text/plain": [
       "array([[0., 1., 0., 0., 0.],\n",
       "       [1., 0., 1., 0., 1.],\n",
       "       [0., 1., 0., 1., 0.],\n",
       "       [0., 0., 1., 0., 0.],\n",
       "       [0., 1., 0., 0., 0.]])"
      ]
     },
     "execution_count": 12,
     "metadata": {},
     "output_type": "execute_result"
    }
   ],
   "source": [
    "nx.to_numpy_array(g, nodelist=[0, 1, 2, 3, 4])"
   ]
  },
  {
   "cell_type": "markdown",
   "metadata": {},
   "source": [
    "Here's another hint - we can look at the `.nodes` attribute of the graph:"
   ]
  },
  {
   "cell_type": "code",
   "execution_count": 13,
   "metadata": {},
   "outputs": [
    {
     "data": {
      "text/plain": [
       "NodeView((0, 1, 2, 4, 3))"
      ]
     },
     "execution_count": 13,
     "metadata": {},
     "output_type": "execute_result"
    }
   ],
   "source": [
    "g.nodes"
   ]
  },
  {
   "cell_type": "markdown",
   "metadata": {},
   "source": [
    "Note that these nodes are stored *in the order in which they were added* by default, and not in any sorted order."
   ]
  },
  {
   "cell_type": "markdown",
   "metadata": {},
   "source": [
    "This brings up an important point about adjacency matrices - any permutation of the row/column indices of the adjacency matrix are valid. We'll revisit this point many times throughout the course."
   ]
  },
  {
   "cell_type": "markdown",
   "metadata": {},
   "source": [
    "We can also directly create a sparse array representation."
   ]
  },
  {
   "cell_type": "code",
   "execution_count": 16,
   "metadata": {},
   "outputs": [
    {
     "data": {
      "text/plain": [
       "<5x5 sparse matrix of type '<class 'numpy.int64'>'\n",
       "\twith 8 stored elements in Compressed Sparse Row format>"
      ]
     },
     "execution_count": 16,
     "metadata": {},
     "output_type": "execute_result"
    }
   ],
   "source": [
    "A_sparse = nx.to_scipy_sparse_matrix(g, nodelist=[0, 1, 2, 3, 4])\n",
    "A_sparse"
   ]
  },
  {
   "cell_type": "markdown",
   "metadata": {},
   "source": [
    "## Bespoke network formats\n",
    "\n",
    "Many libraries for dealing with networks create their own data structure for storing networks under the hood.\n",
    "\n",
    "The advantage of this approach is that the data structure can be optimized to the kind of operations that\n",
    "a specific library often does. See, for example, the graph classes in [`stellargraph`](https://stellargraph.readthedocs.io/en/stable/api.html#stellargraph.StellarGraph) or [`graph-tool`](https://graph-tool.skewed.de/static/doc/quickstart.html#creating-and-manipulating-graphs). These data structures usually are implemented in faster, compiled languages like C, too.\n",
    "The main disadvantage of this approach is that it usually requires the user to learn a new format each time \n",
    "they pick up a new library, and it can become more difficult to chain together different operations from \n",
    "different libraries. \n",
    "\n",
    "In contrast, the approach in `NetworkX` is to use pure Python for everything under the hood,\n",
    "which tends to make operations slow. Indeed, many algorithms in `NetworkX` have to convert to\n",
    "a sparse/dense adjacency matrix each time a particular function is called, and others have to \n",
    "iterate through nodes/edges using Python `for` loops. Both of which are slow."
   ]
  },
  {
   "cell_type": "markdown",
   "metadata": {},
   "source": [
    "```{admonition} Question\n",
    "\n",
    "What are the advantages and disadvantages of using a dense (`numpy`) adjacency matrix?\n",
    "\n",
    "What are the advantages and disadvantages of using a sparse (`scipy`) adjacency matrix?\n",
    "\n",
    "What are the advantages and disadvantages of using a `networkx` graph? \n",
    "\n",
    "What are the advantages and disadvantages of using a bespoke, custom graph object for a \n",
    "particular set of algorithms?\n",
    "\n",
    "```"
   ]
  }
 ],
 "metadata": {
  "interpreter": {
   "hash": "c3423c616dc2c56c4ac2c35df84cd358fdd1f7e3ed83f0665c8486ea72bb1b48"
  },
  "kernelspec": {
   "display_name": "Python 3.9.7 64-bit ('.venv': poetry)",
   "language": "python",
   "name": "python3"
  },
  "language_info": {
   "codemirror_mode": {
    "name": "ipython",
    "version": 3
   },
   "file_extension": ".py",
   "mimetype": "text/x-python",
   "name": "python",
   "nbconvert_exporter": "python",
   "pygments_lexer": "ipython3",
   "version": "3.9.7"
  },
  "orig_nbformat": 4
 },
 "nbformat": 4,
 "nbformat_minor": 2
}
