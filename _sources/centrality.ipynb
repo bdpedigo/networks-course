{
 "cells": [
  {
   "cell_type": "markdown",
   "metadata": {},
   "source": [
    "# Centrality measures\n",
    "\n",
    "Much of this content is based heavily on Section 7.1 from Mark Newman's \"Networks\"\n",
    "{cite:p}`newman2018networks`. \n",
    "\n",
    "Lots of research has gone into studying various notions of a \"how important is each node?\" in \n",
    "a network. Of course, as this vague question suggests, there are many ways to define \n",
    "what we mean by important. Below, we'll cover a few of the most famous and commonly \n",
    "used notions, primarily because it will be useful to know what these terms mean when \n",
    "reading studies which use network science. Also, many of these methods are based on\n",
    "elegant and relatively simple mathematics. "
   ]
  },
  {
   "cell_type": "code",
   "execution_count": 105,
   "metadata": {},
   "outputs": [],
   "source": [
    "import networkx as nx\n",
    "import numpy as np\n",
    "from graspologic.datasets import load_drosophila_left\n",
    "from graspologic.utils import binarize\n",
    "\n",
    "\n",
    "A = load_drosophila_left()[:28, :28]\n",
    "A = binarize(A).astype(int)\n",
    "g = nx.from_numpy_array(A, create_using=nx.DiGraph)\n",
    "\n",
    "# g = nx.karate_club_graph()\n",
    "\n",
    "# nodelist = list(g.nodes)\n",
    "# A = nx.to_numpy_array(g, nodelist=nodelist).astype(int)\n",
    "\n",
    "\n",
    "def map_to_nodes(node_map):\n",
    "    node_map.setdefault(0)\n",
    "    # utility function to make it easy to compare dicts to array outputs\n",
    "    return np.array(np.vectorize(lambda x: node_map.setdefault(x, 0))(nodelist))"
   ]
  },
  {
   "cell_type": "markdown",
   "metadata": {},
   "source": [
    "## Degrees\n",
    "\n",
    "The first notion of centrality we'll consider is the node's [**degree**](https://en.wikipedia.org/wiki/Degree_(graph_theory)), sometimes called **degree centrality**, \n",
    "though I personally won't use that term. The degree of a node is simply the number of other nodes to which it\n",
    "is connected.\n",
    "\n"
   ]
  },
  {
   "cell_type": "code",
   "execution_count": 106,
   "metadata": {},
   "outputs": [
    {
     "data": {
      "text/plain": [
       "array([49, 50, 51, 52, 52, 52, 47, 49, 49, 47, 46, 48, 50, 46, 52, 51, 50,\n",
       "       46, 49, 52, 50, 50, 42, 47, 34, 41, 38, 48,  0,  0,  0,  0,  0,  0])"
      ]
     },
     "execution_count": 106,
     "metadata": {},
     "output_type": "execute_result"
    }
   ],
   "source": [
    "degrees = dict(g.degree())\n",
    "map_to_nodes(degrees)"
   ]
  },
  {
   "cell_type": "markdown",
   "metadata": {},
   "source": [
    "This output is essentially a dictionary mapping each node in the network to its degree.\n",
    "\n",
    "Computing the degree is also quite easy with the adjacency matrix:"
   ]
  },
  {
   "cell_type": "code",
   "execution_count": 107,
   "metadata": {},
   "outputs": [
    {
     "data": {
      "text/plain": [
       "array([49, 50, 51, 52, 52, 52, 47, 49, 49, 47, 46, 48, 50, 46, 52, 51, 50,\n",
       "       46, 49, 52, 50, 50, 42, 47, 34, 41, 38, 48])"
      ]
     },
     "execution_count": 107,
     "metadata": {},
     "output_type": "execute_result"
    }
   ],
   "source": [
    "A.sum(axis=0) + A.sum(axis=1)"
   ]
  },
  {
   "cell_type": "markdown",
   "metadata": {},
   "source": [
    "We see that the output matches, as expected. For a directed network, there are distinct \n",
    "notions of degree based on whether we are considering a node's outputs or inputs. These \n",
    "are simply termed **[out and in degree](https://en.wikipedia.org/wiki/Directed_graph#Indegree_and_outdegree)**, where\n",
    "out degree is the number of outputs from a given node, and likewise for the in degree.\n",
    "\n",
    "Let's see what this looks like to compute using `networkx` and an adjacency matrix:"
   ]
  },
  {
   "cell_type": "code",
   "execution_count": 108,
   "metadata": {},
   "outputs": [
    {
     "data": {
      "text/plain": [
       "array([24, 26, 26, 26, 25, 25, 24, 26, 26, 23, 25, 25, 24, 23, 25, 26, 23,\n",
       "       23, 24, 25, 26, 25, 22, 24, 17, 22, 18, 21])"
      ]
     },
     "execution_count": 108,
     "metadata": {},
     "output_type": "execute_result"
    }
   ],
   "source": [
    "out_degrees = A.sum(axis=1)\n",
    "out_degrees"
   ]
  },
  {
   "cell_type": "code",
   "execution_count": 109,
   "metadata": {},
   "outputs": [
    {
     "data": {
      "text/plain": [
       "array([24, 26, 26, 26, 25, 25, 24, 26, 26, 23, 25, 25, 24, 23, 25, 26, 23,\n",
       "       23, 24, 25, 26, 25, 22, 24, 17, 22, 18, 21,  0,  0,  0,  0,  0,  0])"
      ]
     },
     "execution_count": 109,
     "metadata": {},
     "output_type": "execute_result"
    }
   ],
   "source": [
    "map_to_nodes(dict(g.out_degree()))"
   ]
  },
  {
   "cell_type": "code",
   "execution_count": 110,
   "metadata": {},
   "outputs": [
    {
     "data": {
      "text/plain": [
       "array([25, 24, 25, 26, 27, 27, 23, 23, 23, 24, 21, 23, 26, 23, 27, 25, 27,\n",
       "       23, 25, 27, 24, 25, 20, 23, 17, 19, 20, 27])"
      ]
     },
     "execution_count": 110,
     "metadata": {},
     "output_type": "execute_result"
    }
   ],
   "source": [
    "in_degrees = A.sum(axis=0)\n",
    "in_degrees"
   ]
  },
  {
   "cell_type": "code",
   "execution_count": 111,
   "metadata": {},
   "outputs": [
    {
     "data": {
      "text/plain": [
       "array([25, 24, 25, 26, 27, 27, 23, 23, 23, 24, 21, 23, 26, 23, 27, 25, 27,\n",
       "       23, 25, 27, 24, 25, 20, 23, 17, 19, 20, 27,  0,  0,  0,  0,  0,  0])"
      ]
     },
     "execution_count": 111,
     "metadata": {},
     "output_type": "execute_result"
    }
   ],
   "source": [
    "map_to_nodes(dict(g.in_degree()))"
   ]
  },
  {
   "cell_type": "markdown",
   "metadata": {},
   "source": [
    "## Eigenvector centrality\n",
    "\n",
    "Our next notion of importance for each node is called **[eigenvector centrality](https://en.wikipedia.org/wiki/Eigenvector_centrality)**. The eigenvector centrality has an interesting, circular definition: nodes are considered more important if they themselves are connected to many important nodes. \n",
    "\n",
    "How can we write this down mathematically? Let's say that we are after a vector $x$, which \n",
    "has length $n$ (the number of nodes in our graph). Element $x_i$ in this vector will \n",
    "represent the eigenvector centrality that we are after for node $i$. Based on what we \n",
    "said about in the definition, then this means that we can write: \n",
    "\n",
    "$$x_i = c \\sum A_{ij} x_j$$\n",
    "\n",
    "How does this work? For any potential edge incident to $i$ that doesn't exist, $A_{ij} = 0$, \n",
    "and thus we won't sum up the contribution of those nodes which aren't neighbors of $i$. \n",
    "Why do we have a constant, $c$? Since the definition of eigenvector centrality is completely\n",
    "*relative*, we could put any constant $c > 0$, and the definition would hold. Since this \n",
    "choice is relative, let's set $c = \\frac{1}{\\lambda}$, where $\\lambda$ is the largest eigenvalue\n",
    "of $A$. \n",
    "\n",
    "$$x_i = \\frac{1}{\\lambda} \\sum A_{ij} x_j$$\n",
    "\n",
    "Now, this formula is starting to look like something we know from linear algebra. We\n",
    "can rewrite this set of equations (for all $i$) as a matrix/vector equation: \n",
    "\n",
    "$$\\lambda x = A x$$\n",
    "\n",
    "Which is the familiar definition of an eigenvector/eigenvalue, where in this case, $x$\n",
    "would correspond to the eigenvector of the largest eigenvalue of $A$. Why are we considering\n",
    "only the largest eigenvalue of $A$, rather than any other? This is because if we want a \n",
    "positive score for each node in our network, the only eigenvector with all positive elements\n",
    "will be the one we chose above, by a famous result called the [Perron-Frobenius theorem](https://en.wikipedia.org/wiki/Perron%E2%80%93Frobenius_theorem). \n",
    "\n"
   ]
  },
  {
   "cell_type": "markdown",
   "metadata": {},
   "source": [
    "Knowing this, we can compute the eigenvector centrality quite easily from the adjacency matrix."
   ]
  },
  {
   "cell_type": "code",
   "execution_count": 112,
   "metadata": {},
   "outputs": [
    {
     "data": {
      "text/plain": [
       "array([0.35549144, 0.26595992, 0.3171925 , 0.21117972, 0.07596882,\n",
       "       0.07948305, 0.07948305, 0.17095975, 0.22740391, 0.10267425,\n",
       "       0.07596882, 0.0528557 , 0.08425463, 0.22647272, 0.10140326,\n",
       "       0.10140326, 0.02363563, 0.09239954, 0.10140326, 0.14791251,\n",
       "       0.10140326, 0.09239954, 0.10140326, 0.15011857, 0.05705244,\n",
       "       0.05920647, 0.07557941, 0.13347715, 0.13107782, 0.13496082,\n",
       "       0.1747583 , 0.19103384, 0.30864422, 0.37336347])"
      ]
     },
     "execution_count": 112,
     "metadata": {},
     "output_type": "execute_result"
    }
   ],
   "source": [
    "g = nx.karate_club_graph()\n",
    "nodelist = list(g.nodes)\n",
    "A = nx.to_numpy_array(g, nodelist=nodelist)\n",
    "\n",
    "eigenvalues, eigenvectors = np.linalg.eig(A)\n",
    "first_eigenvector = np.abs(eigenvectors[:, 0])\n",
    "first_eigenvector"
   ]
  },
  {
   "cell_type": "markdown",
   "metadata": {},
   "source": [
    "The eigenvector centrality is also provided as a function directly in `networkx`."
   ]
  },
  {
   "cell_type": "code",
   "execution_count": 113,
   "metadata": {},
   "outputs": [
    {
     "data": {
      "text/plain": [
       "array([0.35548349, 0.26595387, 0.31718939, 0.21117408, 0.07596646,\n",
       "       0.07948058, 0.07948058, 0.17095511, 0.22740509, 0.10267519,\n",
       "       0.07596646, 0.05285417, 0.08425192, 0.2264697 , 0.10140628,\n",
       "       0.10140628, 0.02363479, 0.09239676, 0.10140628, 0.14791134,\n",
       "       0.10140628, 0.09239676, 0.10140628, 0.15012329, 0.05705374,\n",
       "       0.0592082 , 0.07558192, 0.13347933, 0.13107926, 0.13496529,\n",
       "       0.17476028, 0.19103627, 0.30865105, 0.37337121])"
      ]
     },
     "execution_count": 113,
     "metadata": {},
     "output_type": "execute_result"
    }
   ],
   "source": [
    "map_to_nodes(dict(nx.eigenvector_centrality(g)))"
   ]
  },
  {
   "cell_type": "markdown",
   "metadata": {},
   "source": [
    "## PageRank\n",
    "\n",
    "See the [Wikipedia article on PageRank](https://en.wikipedia.org/wiki/PageRank) for more detail than I give here.\n",
    "\n",
    "PageRank is another famous centrality measure - famous because it was one of the algorithms used early on by Google to decide which websites in a web network were important.\n",
    "\n",
    "There are several ways to derive the definition of PageRank, but we'll use one based on something called **[random walks](https://en.wikipedia.org/wiki/Random_walk)** to motivate this algorithm.\n",
    "\n"
   ]
  },
  {
   "cell_type": "markdown",
   "metadata": {},
   "source": [
    "### Random walks\n",
    "\n",
    "![](./images/random-walk.png)\n",
    "\n",
    "Let's say we have an unweighted, directed network (for the time being). At time $t$, imagine you are a placed at a random node in a network, node $i$. To decide your position at time $t+1$, you *randomly* chose one of the outbound links from node $A$ to follow.\n",
    "\n",
    "Let $x^{t+1}$ be an $n$-length vector, with all 0s except for a $1$ at the position\n",
    "of our random walker at time $t+1$.\n",
    "\n",
    "We can write the probability of being at node $j$ at time $t=1$ as:\n",
    "\n",
    "$P[x_j^{t+1} = 1] = A_{ij}/d_{i}$\n",
    "\n",
    "In other words, this probability is $1 / d_{i}$ if $i$ is connected to $j$, and 0 otherwise.\n",
    "\n",
    "Random walks are a very important concept in network science which we'll come back to later in the course. \n",
    "\n",
    "Rather than considering a single random walker (e.g. the vector $x$ has 0's and 1's), it\n",
    "is often more useful to consider the *probability distribution* of a random walker. In \n",
    "other words, we can consider the vector $x^{t}$ to be positive and sum to 1, and element\n",
    "$x_i^{t}$ represents the probability of being at node $i$ and time $t$. \n",
    "\n",
    "Let $D$ be an $n \\times n$ matrix whose diagonal is the out degree of each node. Now, we \n",
    "can create a matrix $P$ which represents the **transition probabilities** for our random walk:\n",
    "$$P = D^{-1} A$$\n",
    "\n",
    "In essence, we have just divided each row of $A$ by its out degree.\n",
    "\n",
    "Now, we can use a simple matrix/vector equation to update the probability distribution of \n",
    "our random walker at time $t+1$ based on that at time $t$.\n",
    "\n",
    "$$x^{(t+1)} = A^T D^{-1} x^{(t)} = P^T x^{(t)}$$"
   ]
  },
  {
   "cell_type": "markdown",
   "metadata": {},
   "source": [
    "### Random walks with teleportation\n",
    "\n",
    "One issue with the model above is that sometimes a random walker could get stuck in a \n",
    "node with no output edges. The authors of PageRank made one small modification to this random \n",
    "walk scheme - at each time step, with probability $\\alpha$ the random walk proceeds as before. With probability $1 - \\alpha$, the random walker *teleports* to node completely at random.\n",
    "\n",
    "Now, we have\n",
    "\n",
    "$$x^{(t+1)} = \\alpha A^T D^{-1} x^{(t)} + \\frac{(1 - \\alpha)}{n} x^{(t)}$$\n",
    "$$x^{(t+1)} = \\left (\\alpha A^T D^{-1} + \\frac{(1 - \\alpha)}{n} \\right ) x^{(t)}$$\n",
    "\n",
    "Given this, we are basically done finding the PageRank of each node! The logic of PageRank\n",
    "is simply to give an importance to each node which is proportional to the limiting probability\n",
    "of this random walker (with teleportation) landing on that node after a long time walking \n",
    "on our network. Because of some linear algebraic properties which we probably won't get \n",
    "into in this course, this limiting distribution (e.g. $x^{(t)}$ as $t$ goes to infinity)\n",
    "converges in a modest number of iterations because of the teleportation probability we added. \n",
    "The value of $\\alpha$ can be set by the user, but typically people leave it at $0.85$."
   ]
  },
  {
   "cell_type": "code",
   "execution_count": 114,
   "metadata": {},
   "outputs": [
    {
     "data": {
      "text/plain": [
       "array([0.09699729, 0.05287692, 0.05707851, 0.03585986, 0.02197795,\n",
       "       0.02911115, 0.02911115, 0.0244905 , 0.02976606, 0.0143094 ,\n",
       "       0.02197795, 0.00956475, 0.01464489, 0.02953646, 0.01453599,\n",
       "       0.01453599, 0.01678401, 0.01455868, 0.01453599, 0.01960464,\n",
       "       0.01453599, 0.01455868, 0.01453599, 0.03152251, 0.02107603,\n",
       "       0.0210062 , 0.01504404, 0.02563977, 0.01957346, 0.02628854,\n",
       "       0.02459016, 0.03715809, 0.07169323, 0.10091918])"
      ]
     },
     "execution_count": 114,
     "metadata": {},
     "output_type": "execute_result"
    }
   ],
   "source": [
    "n = A.shape[0]\n",
    "alpha = 0.85\n",
    "n_iters = 100\n",
    "out_degrees = A.sum(axis=1)\n",
    "D_inv = np.diag(1 / out_degrees)\n",
    "rng = np.random.default_rng()\n",
    "x = rng.random(n)\n",
    "x /= np.linalg.norm(x, ord=1)\n",
    "P = A.T @ D_inv\n",
    "P_mod = alpha * P + (1 - alpha) / n\n",
    "\n",
    "for i in range(n_iters):\n",
    "    x = P_mod @ x\n",
    "\n",
    "x"
   ]
  },
  {
   "cell_type": "markdown",
   "metadata": {},
   "source": [
    "Note that this is algorithm also has an interpretation as finding the principal eigenvector\n",
    "of the matrix `P_mod` above through a process known as [power iteration](https://en.wikipedia.org/wiki/Power_iteration)."
   ]
  },
  {
   "cell_type": "markdown",
   "metadata": {},
   "source": [
    "The algorithm we used above gets a very similar answer to the version implemented in `networkx`. There are a couple of parameters (max iterations, stopping tolerance, initial distribution) which can affect the results slightly. "
   ]
  },
  {
   "cell_type": "code",
   "execution_count": 115,
   "metadata": {},
   "outputs": [
    {
     "data": {
      "text/plain": [
       "array([0.09700182, 0.05287839, 0.05707842, 0.03586064, 0.02197941,\n",
       "       0.02911334, 0.02911334, 0.02449076, 0.02976534, 0.01430895,\n",
       "       0.02197941, 0.00956492, 0.01464519, 0.02953631, 0.01453516,\n",
       "       0.01453516, 0.01678538, 0.01455886, 0.01453516, 0.01960442,\n",
       "       0.01453516, 0.01455886, 0.01453516, 0.03152092, 0.02107546,\n",
       "       0.02100563, 0.0150434 , 0.0256388 , 0.01957296, 0.02628726,\n",
       "       0.02458934, 0.03715664, 0.07169213, 0.10091792])"
      ]
     },
     "execution_count": 115,
     "metadata": {},
     "output_type": "execute_result"
    }
   ],
   "source": [
    "pagerank_dict = nx.pagerank(g, max_iter=100)\n",
    "np.vectorize(pagerank_dict.get)(nodelist)"
   ]
  },
  {
   "cell_type": "markdown",
   "metadata": {},
   "source": [
    "## Betweenness centrality\n",
    "\n",
    "Rather than considering random walks, **betweenness centrality** is based on **shortest paths**. A shortest path between node $i$ and node $j$ is a path (a sequence of edges to traverse) which uses as few edges as possible to get from $i$ to $j$. If you'd like to compute shortest paths with a sparse adjacency matrix, you can do this in `scipy` using [`scipy.sparse.csgraph.shortest_path`](https://docs.scipy.org/doc/scipy/reference/generated/scipy.sparse.csgraph.shortest_path.html).\n",
    "\n",
    "Betweenness centrality uses the following motivation: imaging we have a network where every pair of nodes needs to exchange information. Further, we assume that each node is equally efficient at transmitting information, and that information will flow between pairs of nodes using the shortest path.\n",
    "\n",
    "Betweenness centrality, then, is based on the following simple logic: a node is more important if more information passes through them. In other words, the betweenness centrality of node $i$ is proportional to the number of these shortest paths (among all other nodes) which contain $i$."
   ]
  },
  {
   "cell_type": "markdown",
   "metadata": {},
   "source": []
  },
  {
   "cell_type": "code",
   "execution_count": 116,
   "metadata": {},
   "outputs": [
    {
     "data": {
      "image/png": "[encoded data removed]",
      "text/plain": [
       "<Figure size 1440x360 with 4 Axes>"
      ]
     },
     "metadata": {},
     "output_type": "display_data"
    }
   ],
   "source": [
    "import pandas as pd\n",
    "import matplotlib.pyplot as plt\n",
    "from graspologic.plot import networkplot\n",
    "import seaborn as sns\n",
    "from matplotlib import colors\n",
    "\n",
    "node_data = pd.DataFrame(index=g.nodes())\n",
    "node_data[\"degree\"] = node_data.index.map(dict(nx.degree(g)))\n",
    "node_data[\"eigenvector\"] = node_data.index.map(nx.eigenvector_centrality(g))\n",
    "node_data[\"pagerank\"] = node_data.index.map(nx.pagerank(g))\n",
    "node_data[\"betweenness\"] = node_data.index.map(nx.betweenness_centrality(g))\n",
    "\n",
    "pos = nx.kamada_kawai_layout(g)\n",
    "node_data[\"x\"] = [pos[node][0] for node in node_data.index]\n",
    "node_data[\"y\"] = [pos[node][1] for node in node_data.index]\n",
    "\n",
    "sns.set_context(\"talk\", font_scale=1.5)\n",
    "fig, axs = plt.subplots(1, 4, figsize=(20, 5))\n",
    "\n",
    "\n",
    "def plot_node_scaled_network(A, node_data, key, ax):\n",
    "    # REF: https://github.com/mwaskom/seaborn/blob/9425588d3498755abd93960df4ab05ec1a8de3ef/seaborn/_core.py#L215\n",
    "\n",
    "    levels = list(np.sort(node_data[key].unique()))\n",
    "    cmap = sns.color_palette(\"Blues\", as_cmap=True)\n",
    "    vmin = np.min(levels)\n",
    "    norm = colors.Normalize(vmin=0.3 * vmin)\n",
    "    palette = dict(zip(levels, cmap(norm(levels))))\n",
    "\n",
    "    networkplot(\n",
    "        A,\n",
    "        node_data=node_data,\n",
    "        x=\"x\",\n",
    "        y=\"y\",\n",
    "        ax=ax,\n",
    "        edge_linewidth=1.0,\n",
    "        node_size=key,\n",
    "        node_hue=key,\n",
    "        palette=palette,\n",
    "        node_sizes=(20, 200),\n",
    "        node_kws=dict(linewidth=1, edgecolor=\"black\"),\n",
    "        node_alpha=1.0,\n",
    "        edge_kws=dict(color=sns.color_palette()[0])\n",
    "    )\n",
    "\n",
    "    ax.axis(\"off\")\n",
    "    ax.set_title(key.capitalize())\n",
    "\n",
    "\n",
    "ax = axs[0]\n",
    "plot_node_scaled_network(A, node_data, \"degree\", ax)\n",
    "\n",
    "ax = axs[1]\n",
    "plot_node_scaled_network(A, node_data, \"eigenvector\", ax)\n",
    "\n",
    "ax = axs[2]\n",
    "plot_node_scaled_network(A, node_data, \"pagerank\", ax)\n",
    "\n",
    "ax = axs[3]\n",
    "plot_node_scaled_network(A, node_data, \"betweenness\", ax)\n",
    "\n",
    "fig.set_facecolor(\"w\")"
   ]
  },
  {
   "cell_type": "code",
   "execution_count": 117,
   "metadata": {},
   "outputs": [
    {
     "data": {
      "text/html": [
       "<div>\n",
       "<style scoped>\n",
       "    .dataframe tbody tr th:only-of-type {\n",
       "        vertical-align: middle;\n",
       "    }\n",
       "\n",
       "    .dataframe tbody tr th {\n",
       "        vertical-align: top;\n",
       "    }\n",
       "\n",
       "    .dataframe thead th {\n",
       "        text-align: right;\n",
       "    }\n",
       "</style>\n",
       "<table border=\"1\" class=\"dataframe\">\n",
       "  <thead>\n",
       "    <tr style=\"text-align: right;\">\n",
       "      <th></th>\n",
       "      <th>degree</th>\n",
       "      <th>eigenvector</th>\n",
       "      <th>pagerank</th>\n",
       "      <th>betweenness</th>\n",
       "      <th>x</th>\n",
       "      <th>y</th>\n",
       "    </tr>\n",
       "  </thead>\n",
       "  <tbody>\n",
       "    <tr>\n",
       "      <th>0</th>\n",
       "      <td>16</td>\n",
       "      <td>0.355483</td>\n",
       "      <td>0.097002</td>\n",
       "      <td>0.437635</td>\n",
       "      <td>0.025953</td>\n",
       "      <td>0.332618</td>\n",
       "    </tr>\n",
       "    <tr>\n",
       "      <th>1</th>\n",
       "      <td>9</td>\n",
       "      <td>0.265954</td>\n",
       "      <td>0.052878</td>\n",
       "      <td>0.053937</td>\n",
       "      <td>-0.154154</td>\n",
       "      <td>0.251060</td>\n",
       "    </tr>\n",
       "    <tr>\n",
       "      <th>2</th>\n",
       "      <td>10</td>\n",
       "      <td>0.317189</td>\n",
       "      <td>0.057078</td>\n",
       "      <td>0.143657</td>\n",
       "      <td>0.072811</td>\n",
       "      <td>-0.003398</td>\n",
       "    </tr>\n",
       "    <tr>\n",
       "      <th>3</th>\n",
       "      <td>6</td>\n",
       "      <td>0.211174</td>\n",
       "      <td>0.035861</td>\n",
       "      <td>0.011909</td>\n",
       "      <td>0.151208</td>\n",
       "      <td>0.232506</td>\n",
       "    </tr>\n",
       "    <tr>\n",
       "      <th>4</th>\n",
       "      <td>3</td>\n",
       "      <td>0.075966</td>\n",
       "      <td>0.021979</td>\n",
       "      <td>0.000631</td>\n",
       "      <td>0.193135</td>\n",
       "      <td>0.574454</td>\n",
       "    </tr>\n",
       "    <tr>\n",
       "      <th>5</th>\n",
       "      <td>4</td>\n",
       "      <td>0.079481</td>\n",
       "      <td>0.029113</td>\n",
       "      <td>0.029987</td>\n",
       "      <td>0.189964</td>\n",
       "      <td>0.679017</td>\n",
       "    </tr>\n",
       "    <tr>\n",
       "      <th>6</th>\n",
       "      <td>4</td>\n",
       "      <td>0.079481</td>\n",
       "      <td>0.029113</td>\n",
       "      <td>0.029987</td>\n",
       "      <td>-0.004422</td>\n",
       "      <td>0.691958</td>\n",
       "    </tr>\n",
       "    <tr>\n",
       "      <th>7</th>\n",
       "      <td>4</td>\n",
       "      <td>0.170955</td>\n",
       "      <td>0.024491</td>\n",
       "      <td>0.000000</td>\n",
       "      <td>0.283520</td>\n",
       "      <td>0.210236</td>\n",
       "    </tr>\n",
       "    <tr>\n",
       "      <th>8</th>\n",
       "      <td>5</td>\n",
       "      <td>0.227405</td>\n",
       "      <td>0.029765</td>\n",
       "      <td>0.055927</td>\n",
       "      <td>-0.175658</td>\n",
       "      <td>-0.009901</td>\n",
       "    </tr>\n",
       "    <tr>\n",
       "      <th>9</th>\n",
       "      <td>2</td>\n",
       "      <td>0.102675</td>\n",
       "      <td>0.014309</td>\n",
       "      <td>0.000848</td>\n",
       "      <td>0.070613</td>\n",
       "      <td>-0.289252</td>\n",
       "    </tr>\n",
       "    <tr>\n",
       "      <th>10</th>\n",
       "      <td>3</td>\n",
       "      <td>0.075966</td>\n",
       "      <td>0.021979</td>\n",
       "      <td>0.000631</td>\n",
       "      <td>0.379808</td>\n",
       "      <td>0.532623</td>\n",
       "    </tr>\n",
       "    <tr>\n",
       "      <th>11</th>\n",
       "      <td>1</td>\n",
       "      <td>0.052854</td>\n",
       "      <td>0.009565</td>\n",
       "      <td>0.000000</td>\n",
       "      <td>-0.187765</td>\n",
       "      <td>0.633252</td>\n",
       "    </tr>\n",
       "    <tr>\n",
       "      <th>12</th>\n",
       "      <td>2</td>\n",
       "      <td>0.084252</td>\n",
       "      <td>0.014645</td>\n",
       "      <td>0.000000</td>\n",
       "      <td>0.433744</td>\n",
       "      <td>0.379505</td>\n",
       "    </tr>\n",
       "    <tr>\n",
       "      <th>13</th>\n",
       "      <td>5</td>\n",
       "      <td>0.226470</td>\n",
       "      <td>0.029536</td>\n",
       "      <td>0.045863</td>\n",
       "      <td>-0.085120</td>\n",
       "      <td>0.052682</td>\n",
       "    </tr>\n",
       "    <tr>\n",
       "      <th>14</th>\n",
       "      <td>2</td>\n",
       "      <td>0.101406</td>\n",
       "      <td>0.014535</td>\n",
       "      <td>0.000000</td>\n",
       "      <td>-0.500067</td>\n",
       "      <td>-0.312444</td>\n",
       "    </tr>\n",
       "    <tr>\n",
       "      <th>15</th>\n",
       "      <td>2</td>\n",
       "      <td>0.101406</td>\n",
       "      <td>0.014535</td>\n",
       "      <td>0.000000</td>\n",
       "      <td>-0.465779</td>\n",
       "      <td>-0.429025</td>\n",
       "    </tr>\n",
       "    <tr>\n",
       "      <th>16</th>\n",
       "      <td>2</td>\n",
       "      <td>0.023635</td>\n",
       "      <td>0.016785</td>\n",
       "      <td>0.000000</td>\n",
       "      <td>0.159578</td>\n",
       "      <td>1.000000</td>\n",
       "    </tr>\n",
       "    <tr>\n",
       "      <th>17</th>\n",
       "      <td>2</td>\n",
       "      <td>0.092397</td>\n",
       "      <td>0.014559</td>\n",
       "      <td>0.000000</td>\n",
       "      <td>-0.279331</td>\n",
       "      <td>0.514205</td>\n",
       "    </tr>\n",
       "    <tr>\n",
       "      <th>18</th>\n",
       "      <td>2</td>\n",
       "      <td>0.101406</td>\n",
       "      <td>0.014535</td>\n",
       "      <td>0.000000</td>\n",
       "      <td>-0.395900</td>\n",
       "      <td>-0.534397</td>\n",
       "    </tr>\n",
       "    <tr>\n",
       "      <th>19</th>\n",
       "      <td>3</td>\n",
       "      <td>0.147911</td>\n",
       "      <td>0.019604</td>\n",
       "      <td>0.032475</td>\n",
       "      <td>-0.275385</td>\n",
       "      <td>0.069220</td>\n",
       "    </tr>\n",
       "    <tr>\n",
       "      <th>20</th>\n",
       "      <td>2</td>\n",
       "      <td>0.101406</td>\n",
       "      <td>0.014535</td>\n",
       "      <td>0.000000</td>\n",
       "      <td>-0.293375</td>\n",
       "      <td>-0.615543</td>\n",
       "    </tr>\n",
       "    <tr>\n",
       "      <th>21</th>\n",
       "      <td>2</td>\n",
       "      <td>0.092397</td>\n",
       "      <td>0.014559</td>\n",
       "      <td>0.000000</td>\n",
       "      <td>-0.373191</td>\n",
       "      <td>0.436351</td>\n",
       "    </tr>\n",
       "    <tr>\n",
       "      <th>22</th>\n",
       "      <td>2</td>\n",
       "      <td>0.101406</td>\n",
       "      <td>0.014535</td>\n",
       "      <td>0.000000</td>\n",
       "      <td>-0.158642</td>\n",
       "      <td>-0.642802</td>\n",
       "    </tr>\n",
       "    <tr>\n",
       "      <th>23</th>\n",
       "      <td>5</td>\n",
       "      <td>0.150123</td>\n",
       "      <td>0.031521</td>\n",
       "      <td>0.017614</td>\n",
       "      <td>0.236065</td>\n",
       "      <td>-0.515501</td>\n",
       "    </tr>\n",
       "    <tr>\n",
       "      <th>24</th>\n",
       "      <td>3</td>\n",
       "      <td>0.057054</td>\n",
       "      <td>0.021075</td>\n",
       "      <td>0.002210</td>\n",
       "      <td>0.570081</td>\n",
       "      <td>-0.296654</td>\n",
       "    </tr>\n",
       "    <tr>\n",
       "      <th>25</th>\n",
       "      <td>3</td>\n",
       "      <td>0.059208</td>\n",
       "      <td>0.021006</td>\n",
       "      <td>0.003840</td>\n",
       "      <td>0.548790</td>\n",
       "      <td>-0.166394</td>\n",
       "    </tr>\n",
       "    <tr>\n",
       "      <th>26</th>\n",
       "      <td>2</td>\n",
       "      <td>0.075582</td>\n",
       "      <td>0.015043</td>\n",
       "      <td>0.000000</td>\n",
       "      <td>-0.047563</td>\n",
       "      <td>-0.757920</td>\n",
       "    </tr>\n",
       "    <tr>\n",
       "      <th>27</th>\n",
       "      <td>4</td>\n",
       "      <td>0.133479</td>\n",
       "      <td>0.025639</td>\n",
       "      <td>0.022333</td>\n",
       "      <td>0.284627</td>\n",
       "      <td>-0.289822</td>\n",
       "    </tr>\n",
       "    <tr>\n",
       "      <th>28</th>\n",
       "      <td>3</td>\n",
       "      <td>0.131079</td>\n",
       "      <td>0.019573</td>\n",
       "      <td>0.001795</td>\n",
       "      <td>0.185397</td>\n",
       "      <td>-0.292763</td>\n",
       "    </tr>\n",
       "    <tr>\n",
       "      <th>29</th>\n",
       "      <td>4</td>\n",
       "      <td>0.134965</td>\n",
       "      <td>0.026287</td>\n",
       "      <td>0.002922</td>\n",
       "      <td>0.068520</td>\n",
       "      <td>-0.620426</td>\n",
       "    </tr>\n",
       "    <tr>\n",
       "      <th>30</th>\n",
       "      <td>4</td>\n",
       "      <td>0.174760</td>\n",
       "      <td>0.024589</td>\n",
       "      <td>0.014412</td>\n",
       "      <td>-0.381375</td>\n",
       "      <td>-0.089401</td>\n",
       "    </tr>\n",
       "    <tr>\n",
       "      <th>31</th>\n",
       "      <td>6</td>\n",
       "      <td>0.191036</td>\n",
       "      <td>0.037157</td>\n",
       "      <td>0.138276</td>\n",
       "      <td>0.197179</td>\n",
       "      <td>-0.072189</td>\n",
       "    </tr>\n",
       "    <tr>\n",
       "      <th>32</th>\n",
       "      <td>12</td>\n",
       "      <td>0.308651</td>\n",
       "      <td>0.071692</td>\n",
       "      <td>0.145247</td>\n",
       "      <td>-0.172313</td>\n",
       "      <td>-0.312215</td>\n",
       "    </tr>\n",
       "    <tr>\n",
       "      <th>33</th>\n",
       "      <td>17</td>\n",
       "      <td>0.373371</td>\n",
       "      <td>0.100918</td>\n",
       "      <td>0.304075</td>\n",
       "      <td>-0.100954</td>\n",
       "      <td>-0.339640</td>\n",
       "    </tr>\n",
       "  </tbody>\n",
       "</table>\n",
       "</div>"
      ],
      "text/plain": [
       "    degree  eigenvector  pagerank  betweenness         x         y\n",
       "0       16     0.355483  0.097002     0.437635  0.025953  0.332618\n",
       "1        9     0.265954  0.052878     0.053937 -0.154154  0.251060\n",
       "2       10     0.317189  0.057078     0.143657  0.072811 -0.003398\n",
       "3        6     0.211174  0.035861     0.011909  0.151208  0.232506\n",
       "4        3     0.075966  0.021979     0.000631  0.193135  0.574454\n",
       "5        4     0.079481  0.029113     0.029987  0.189964  0.679017\n",
       "6        4     0.079481  0.029113     0.029987 -0.004422  0.691958\n",
       "7        4     0.170955  0.024491     0.000000  0.283520  0.210236\n",
       "8        5     0.227405  0.029765     0.055927 -0.175658 -0.009901\n",
       "9        2     0.102675  0.014309     0.000848  0.070613 -0.289252\n",
       "10       3     0.075966  0.021979     0.000631  0.379808  0.532623\n",
       "11       1     0.052854  0.009565     0.000000 -0.187765  0.633252\n",
       "12       2     0.084252  0.014645     0.000000  0.433744  0.379505\n",
       "13       5     0.226470  0.029536     0.045863 -0.085120  0.052682\n",
       "14       2     0.101406  0.014535     0.000000 -0.500067 -0.312444\n",
       "15       2     0.101406  0.014535     0.000000 -0.465779 -0.429025\n",
       "16       2     0.023635  0.016785     0.000000  0.159578  1.000000\n",
       "17       2     0.092397  0.014559     0.000000 -0.279331  0.514205\n",
       "18       2     0.101406  0.014535     0.000000 -0.395900 -0.534397\n",
       "19       3     0.147911  0.019604     0.032475 -0.275385  0.069220\n",
       "20       2     0.101406  0.014535     0.000000 -0.293375 -0.615543\n",
       "21       2     0.092397  0.014559     0.000000 -0.373191  0.436351\n",
       "22       2     0.101406  0.014535     0.000000 -0.158642 -0.642802\n",
       "23       5     0.150123  0.031521     0.017614  0.236065 -0.515501\n",
       "24       3     0.057054  0.021075     0.002210  0.570081 -0.296654\n",
       "25       3     0.059208  0.021006     0.003840  0.548790 -0.166394\n",
       "26       2     0.075582  0.015043     0.000000 -0.047563 -0.757920\n",
       "27       4     0.133479  0.025639     0.022333  0.284627 -0.289822\n",
       "28       3     0.131079  0.019573     0.001795  0.185397 -0.292763\n",
       "29       4     0.134965  0.026287     0.002922  0.068520 -0.620426\n",
       "30       4     0.174760  0.024589     0.014412 -0.381375 -0.089401\n",
       "31       6     0.191036  0.037157     0.138276  0.197179 -0.072189\n",
       "32      12     0.308651  0.071692     0.145247 -0.172313 -0.312215\n",
       "33      17     0.373371  0.100918     0.304075 -0.100954 -0.339640"
      ]
     },
     "execution_count": 117,
     "metadata": {},
     "output_type": "execute_result"
    }
   ],
   "source": [
    "node_data"
   ]
  },
  {
   "cell_type": "markdown",
   "metadata": {},
   "source": [
    "## References \n",
    "```{bibliography}\n",
    ":style: unsrt\n",
    "```"
   ]
  }
 ],
 "metadata": {
  "interpreter": {
   "hash": "c3423c616dc2c56c4ac2c35df84cd358fdd1f7e3ed83f0665c8486ea72bb1b48"
  },
  "kernelspec": {
   "display_name": "Python 3.9.7 64-bit ('.venv': poetry)",
   "language": "python",
   "name": "python3"
  },
  "language_info": {
   "codemirror_mode": {
    "name": "ipython",
    "version": 3
   },
   "file_extension": ".py",
   "mimetype": "text/x-python",
   "name": "python",
   "nbconvert_exporter": "python",
   "pygments_lexer": "ipython3",
   "version": "3.9.7"
  },
  "orig_nbformat": 4
 },
 "nbformat": 4,
 "nbformat_minor": 2
}
