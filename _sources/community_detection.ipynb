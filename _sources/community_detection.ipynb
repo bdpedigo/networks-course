{
 "cells": [
  {
   "cell_type": "markdown",
   "metadata": {},
   "source": [
    "# Community detection\n",
    "\n",
    "**Community detection** is the process of dividing a network into **communities**, where each community is some subset of nodes which connect more within community than without.\n",
    "This is an old and famous network science problem. It has applications across a wide\n",
    "range of disciplines. To name a few:\n",
    "- Predicting \"workgroups\" in organizational networks {cite}`zuzul2021dynamic`"
   ]
  },
  {
   "cell_type": "code",
   "execution_count": null,
   "metadata": {},
   "outputs": [],
   "source": []
  },
  {
   "cell_type": "code",
   "execution_count": null,
   "metadata": {},
   "outputs": [],
   "source": []
  },
  {
   "cell_type": "markdown",
   "metadata": {},
   "source": []
  }
 ],
 "metadata": {
  "language_info": {
   "name": "python"
  },
  "orig_nbformat": 4
 },
 "nbformat": 4,
 "nbformat_minor": 2
}
