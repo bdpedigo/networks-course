{
 "cells": [
  {
   "cell_type": "markdown",
   "metadata": {},
   "source": [
    "# Connected components\n",
    "\n",
    "A **connected component** of an undirected is a set of nodes, wherein it is possible to \n",
    "get from any node $i$ in that set to any other node $j$ by traversing the nodes of that\n",
    "network. A network is **fully connected** if it has one connected component."
   ]
  },
  {
   "cell_type": "code",
   "execution_count": 19,
   "metadata": {},
   "outputs": [
    {
     "data": {
      "text/plain": [
       "<AxesSubplot:>"
      ]
     },
     "execution_count": 19,
     "metadata": {},
     "output_type": "execute_result"
    },
    {
     "data": {
      "image/png": "[encoded data removed]",
      "text/plain": [
       "<Figure size 720x720 with 3 Axes>"
      ]
     },
     "metadata": {
      "needs_background": "light"
     },
     "output_type": "display_data"
    }
   ],
   "source": [
    "import numpy as np\n",
    "from graspologic.simulations import sbm\n",
    "from graspologic.plot import heatmap\n",
    "\n",
    "A, labels = sbm([10, 10], [[0.5, 0], [0, 0.5]], return_labels=True)\n",
    "\n",
    "heatmap(A, inner_hier_labels=labels, cbar=False)"
   ]
  },
  {
   "cell_type": "markdown",
   "metadata": {},
   "source": [
    "`graspologic` has tools for dealing with connected components. First, it is often useful\n",
    "to know whether a network is fully connected. \n",
    "\n",
    "```{note}\n",
    "For most applications, if your graph \n",
    "has multiple connected components, it makes more sense to treat each component as its own\n",
    "network and to analyze them separately.\n",
    "```"
   ]
  },
  {
   "cell_type": "code",
   "execution_count": 20,
   "metadata": {},
   "outputs": [
    {
     "data": {
      "text/plain": [
       "False"
      ]
     },
     "execution_count": 20,
     "metadata": {},
     "output_type": "execute_result"
    }
   ],
   "source": [
    "from graspologic.utils import is_fully_connected\n",
    "\n",
    "is_fully_connected(A)"
   ]
  },
  {
   "cell_type": "code",
   "execution_count": 21,
   "metadata": {},
   "outputs": [
    {
     "data": {
      "text/plain": [
       "False"
      ]
     },
     "execution_count": 21,
     "metadata": {},
     "output_type": "execute_result"
    }
   ],
   "source": [
    "import networkx as nx\n",
    "\n",
    "g = nx.from_numpy_array(A)\n",
    "is_fully_connected(g)"
   ]
  },
  {
   "cell_type": "code",
   "execution_count": 22,
   "metadata": {},
   "outputs": [
    {
     "name": "stdout",
     "output_type": "stream",
     "text": [
      "10\n",
      "10\n"
     ]
    }
   ],
   "source": [
    "for component in nx.connected_components(g):\n",
    "    print(len(component))"
   ]
  },
  {
   "cell_type": "markdown",
   "metadata": {},
   "source": [
    "For a directed network, there are two notions of connectedness.\n",
    "- A **weakly connected component** is a set of nodes such that it is possible to get from any node $i$ in the set to any node $j$ in the set *while ignoring edge directions*.\n",
    "- A **strongly connected component** is a set of nodes such that it is possible to get from any node $i$ in the set to any node $j$ in the set.\n",
    "\n",
    "Strong connectedness implies weak connectedness. \n",
    "\n",
    "Strictly speaking, you have to specify which version of connectedness you mean when talking\n",
    "about directed networks. However, I think it's more common to assume people mean weakly connected.\n",
    "\n",
    "This is the version of connectedness for a directed network that `graspologic` means."
   ]
  },
  {
   "cell_type": "code",
   "execution_count": 23,
   "metadata": {},
   "outputs": [
    {
     "data": {
      "text/plain": [
       "False"
      ]
     },
     "execution_count": 23,
     "metadata": {},
     "output_type": "execute_result"
    }
   ],
   "source": [
    "A, labels = sbm([10, 10], [[0.5, 0], [0, 0.5]], return_labels=True, directed=True)\n",
    "\n",
    "is_fully_connected(A)"
   ]
  },
  {
   "cell_type": "code",
   "execution_count": 24,
   "metadata": {},
   "outputs": [
    {
     "data": {
      "text/plain": [
       "False"
      ]
     },
     "execution_count": 24,
     "metadata": {},
     "output_type": "execute_result"
    }
   ],
   "source": [
    "g = nx.from_numpy_array(A, create_using=nx.DiGraph)\n",
    "\n",
    "nx.is_weakly_connected(g)"
   ]
  },
  {
   "cell_type": "markdown",
   "metadata": {},
   "source": [
    "For data cleaning purposes, it is often helpful to be able to select the **largest connected component**. Just like it sounds, this is just the largest group of nodes in the network which satisfy one of the connectedness properties above."
   ]
  },
  {
   "cell_type": "code",
   "execution_count": 25,
   "metadata": {},
   "outputs": [
    {
     "data": {
      "text/plain": [
       "(20, 20)"
      ]
     },
     "execution_count": 25,
     "metadata": {},
     "output_type": "execute_result"
    }
   ],
   "source": [
    "from graspologic.utils import largest_connected_component\n",
    "\n",
    "A = sbm([20, 10], [[0.5, 0], [0, 0.5]])\n",
    "\n",
    "A_lcc = largest_connected_component(A)\n",
    "A_lcc.shape"
   ]
  }
 ],
 "metadata": {
  "interpreter": {
   "hash": "dff935873400928991d508aec13c06cb3504a8b24866236dbe96b4e9a8fd4ca5"
  },
  "kernelspec": {
   "display_name": "Python 3.9.7 64-bit ('.venv': poetry)",
   "language": "python",
   "name": "python3"
  },
  "language_info": {
   "codemirror_mode": {
    "name": "ipython",
    "version": 3
   },
   "file_extension": ".py",
   "mimetype": "text/x-python",
   "name": "python",
   "nbconvert_exporter": "python",
   "pygments_lexer": "ipython3",
   "version": "3.9.7"
  },
  "orig_nbformat": 4
 },
 "nbformat": 4,
 "nbformat_minor": 2
}
